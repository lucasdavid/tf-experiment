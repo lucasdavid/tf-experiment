{
  "cells": [
    {
      "cell_type": "markdown",
      "metadata": {
        "id": "rN4FwlWlb8Hd"
      },
      "source": [
        "# Overview"
      ]
    },
    {
      "cell_type": "code",
      "execution_count": null,
      "metadata": {},
      "outputs": [],
      "source": [
        "print('Hello world')"
      ]
    }
  ],
  "metadata": {
    "colab": {
      "collapsed_sections": [
        "Jotl85w8b8Hn",
        "tcA2yz_3b8Hp"
      ],
      "name": "overview.ipynb",
      "provenance": []
    },
    "kernelspec": {
      "display_name": "Python 3",
      "language": "python",
      "name": "python3"
    },
    "language_info": {
      "codemirror_mode": {
        "name": "ipython",
        "version": 3
      },
      "file_extension": ".py",
      "mimetype": "text/x-python",
      "name": "python",
      "nbconvert_exporter": "python",
      "pygments_lexer": "ipython3",
      "version": "3.6.9"
    }
  },
  "nbformat": 4,
  "nbformat_minor": 0
}
