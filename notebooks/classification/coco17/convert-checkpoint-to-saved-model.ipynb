{
 "cells": [
  {
   "cell_type": "markdown",
   "metadata": {},
   "source": [
    "# Convert Checkpoint to Saved Model"
   ]
  },
  {
   "cell_type": "code",
   "execution_count": 1,
   "metadata": {},
   "outputs": [],
   "source": [
    "import tensorflow as tf"
   ]
  },
  {
   "cell_type": "code",
   "execution_count": 11,
   "metadata": {},
   "outputs": [
    {
     "name": "stdout",
     "output_type": "stream",
     "text": [
      "ls: cannot access '/tf/logs/models/coco-2017/coco17-kernel-usage/chief/checkpoint/': Not a directory\r\n"
     ]
    }
   ],
   "source": [
    "ls "
   ]
  },
  {
   "cell_type": "code",
   "execution_count": 16,
   "metadata": {},
   "outputs": [],
   "source": [
    "model_dir = '/tf/logs/models/coco-2017/coco17-kernel-usage'"
   ]
  },
  {
   "cell_type": "code",
   "execution_count": null,
   "metadata": {},
   "outputs": [],
   "source": []
  },
  {
   "cell_type": "code",
   "execution_count": 17,
   "metadata": {},
   "outputs": [
    {
     "ename": "AttributeError",
     "evalue": "'NoneType' object has no attribute '_train_counter'",
     "output_type": "error",
     "traceback": [
      "\u001b[0;31m---------------------------------------------------------------------------\u001b[0m",
      "\u001b[0;31mAttributeError\u001b[0m                            Traceback (most recent call last)",
      "Input \u001b[0;32mIn [17]\u001b[0m, in \u001b[0;36m<module>\u001b[0;34m\u001b[0m\n\u001b[1;32m      1\u001b[0m \u001b[38;5;28;01mfrom\u001b[39;00m \u001b[38;5;21;01mkeras\u001b[39;00m\u001b[38;5;21;01m.\u001b[39;00m\u001b[38;5;21;01mdistribute\u001b[39;00m \u001b[38;5;28;01mimport\u001b[39;00m worker_training_state\n\u001b[0;32m----> 3\u001b[0m training_state \u001b[38;5;241m=\u001b[39m \u001b[43mworker_training_state\u001b[49m\u001b[38;5;241;43m.\u001b[39;49m\u001b[43mWorkerTrainingState\u001b[49m\u001b[43m(\u001b[49m\u001b[38;5;28;43;01mNone\u001b[39;49;00m\u001b[43m,\u001b[49m\u001b[43m \u001b[49m\u001b[43mmodel_dir\u001b[49m\u001b[43m)\u001b[49m\n",
      "File \u001b[0;32m/usr/local/lib/python3.8/dist-packages/keras/distribute/worker_training_state.py:56\u001b[0m, in \u001b[0;36mWorkerTrainingState.__init__\u001b[0;34m(self, model, checkpoint_dir)\u001b[0m\n\u001b[1;32m     50\u001b[0m backend\u001b[38;5;241m.\u001b[39mset_value(\u001b[38;5;28mself\u001b[39m\u001b[38;5;241m.\u001b[39m_ckpt_saved_epoch, CKPT_SAVED_EPOCH_UNUSED_VALUE)\n\u001b[1;32m     52\u001b[0m \u001b[38;5;66;03m# _ckpt_saved_epoch gets tracked and is included in the checkpoint file\u001b[39;00m\n\u001b[1;32m     53\u001b[0m \u001b[38;5;66;03m# when backing up.\u001b[39;00m\n\u001b[1;32m     54\u001b[0m checkpoint \u001b[38;5;241m=\u001b[39m tf\u001b[38;5;241m.\u001b[39mtrain\u001b[38;5;241m.\u001b[39mCheckpoint(\n\u001b[1;32m     55\u001b[0m     model\u001b[38;5;241m=\u001b[39m\u001b[38;5;28mself\u001b[39m\u001b[38;5;241m.\u001b[39m_model, ckpt_saved_epoch\u001b[38;5;241m=\u001b[39m\u001b[38;5;28mself\u001b[39m\u001b[38;5;241m.\u001b[39m_ckpt_saved_epoch,\n\u001b[0;32m---> 56\u001b[0m     train_counter\u001b[38;5;241m=\u001b[39m\u001b[38;5;28;43mself\u001b[39;49m\u001b[38;5;241;43m.\u001b[39;49m\u001b[43m_model\u001b[49m\u001b[38;5;241;43m.\u001b[39;49m\u001b[43m_train_counter\u001b[49m)\n\u001b[1;32m     58\u001b[0m \u001b[38;5;66;03m# If this is single-worker training, checkpoint_dir are the same for\u001b[39;00m\n\u001b[1;32m     59\u001b[0m \u001b[38;5;66;03m# write_checkpoint_manager and read_checkpoint_manager.\u001b[39;00m\n\u001b[1;32m     60\u001b[0m \u001b[38;5;66;03m#\u001b[39;00m\n\u001b[0;32m   (...)\u001b[0m\n\u001b[1;32m     67\u001b[0m \u001b[38;5;66;03m# But all workers should restore from the same checkpoint_dir as passed in\u001b[39;00m\n\u001b[1;32m     68\u001b[0m \u001b[38;5;66;03m# read_checkpoint_manager.\u001b[39;00m\n\u001b[1;32m     69\u001b[0m \u001b[38;5;28mself\u001b[39m\u001b[38;5;241m.\u001b[39mread_checkpoint_manager \u001b[38;5;241m=\u001b[39m tf\u001b[38;5;241m.\u001b[39mtrain\u001b[38;5;241m.\u001b[39mCheckpointManager(\n\u001b[1;32m     70\u001b[0m     checkpoint,\n\u001b[1;32m     71\u001b[0m     directory\u001b[38;5;241m=\u001b[39mos\u001b[38;5;241m.\u001b[39mpath\u001b[38;5;241m.\u001b[39mjoin(checkpoint_dir, \u001b[38;5;124m'\u001b[39m\u001b[38;5;124mchief\u001b[39m\u001b[38;5;124m'\u001b[39m),\n\u001b[1;32m     72\u001b[0m     max_to_keep\u001b[38;5;241m=\u001b[39m\u001b[38;5;241m1\u001b[39m)\n",
      "\u001b[0;31mAttributeError\u001b[0m: 'NoneType' object has no attribute '_train_counter'"
     ]
    }
   ],
   "source": [
    "from keras.distribute import worker_training_state\n",
    "\n",
    "training_state = worker_training_state.WorkerTrainingState(None, model_dir)"
   ]
  },
  {
   "cell_type": "code",
   "execution_count": null,
   "metadata": {},
   "outputs": [],
   "source": [
    "training_state"
   ]
  }
 ],
 "metadata": {
  "kernelspec": {
   "display_name": "Python 3",
   "language": "python",
   "name": "python3"
  },
  "language_info": {
   "codemirror_mode": {
    "name": "ipython",
    "version": 3
   },
   "file_extension": ".py",
   "mimetype": "text/x-python",
   "name": "python",
   "nbconvert_exporter": "python",
   "pygments_lexer": "ipython3",
   "version": "3.8.10"
  }
 },
 "nbformat": 4,
 "nbformat_minor": 2
}
